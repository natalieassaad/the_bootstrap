{
  "cells": [
    {
      "cell_type": "markdown",
      "id": "bdaeb5b9-a78d-4439-8372-341b3e8cc2ea",
      "metadata": {
        "id": "bdaeb5b9-a78d-4439-8372-341b3e8cc2ea"
      },
      "source": [
        "# Assignment #5: Probability and Bootstrapping\n",
        "## Foundations of Machine Learning\n",
        "## ` ! git clone https://www.github.com/DS3001/the_bootstrap`\n",
        "## Do two."
      ]
    },
    {
      "cell_type": "markdown",
      "id": "59c5d151-f097-44d8-9952-740865be4e2b",
      "metadata": {
        "id": "59c5d151-f097-44d8-9952-740865be4e2b"
      },
      "source": [
        "**Q1.** A die is fair if every face is equally likely. A die has six sides if it has six faces labelled 1, 2, ... , 6.\n",
        "\n",
        "1. Imagine rolling two dice, $d_1$ and $d_2$. Let $R_{min}$ be the lesser value of the two face values. What is the probability of getting a 1, 2, 3, 4, 5, or 6? Which values are more or less likely compared to the roll of a single six-sided die? What is the expected value of $R_{min}$? Plot the probability and cumulative distribution functions for $R_{min}$. Compute this by hand and simulate it using the law of large numbers.\n",
        "2. Imagine rolling three dice, $d_1$, $d_2$, and $d_3$. Let $R_{med}$ be the middle of the three face values. So if you roll 2, 3 and 4, the middle value is 3, and if you roll 2, 4, 4, the middle value is 4, and so on. What is the probability of getting a 1, 2, 3, 4, 5, or 6? Which values are more or less likely compared to the roll of a single six-sided die? What is the expected value of $R_{med}$? Plot the probability and cumulative distribution functions for $R_{med}$. I recommend using simulations and the law of large numbers.\n",
        "3. Imagine rolling a die. If you roll 1, 2, 3, 4, or 5, add that number to your total and stop; if you roll a six, add that number to your total and roll the die again. So you could roll, say, two sixes and then a four, and get a total of 16, or one three and get a total of 3, or twelve sixes and 1 and get 72, and so on. Write code to simulate this process, and determine its expected value using the law of large numbers. What is the probability of getting a total of 1, 2, 3, ... and so on, in your simulation? I recommend using simulations and the law of large numbers.  (Hint: The `while` loop might be useful in this case.)"
      ]
    },
    {
      "cell_type": "markdown",
      "id": "e88b5fc6-4aea-40f5-b9c4-a9563a138f62",
      "metadata": {
        "id": "e88b5fc6-4aea-40f5-b9c4-a9563a138f62"
      },
      "source": [
        "**Q2.** This question refers to the `mammogram.csv` data. It has two variables, `treatment` which takes the values `control` or `mammogram`, and `breast_cancer_death`, which takes the values `no` or `yes`. This is an experiment that followed 89,835 women for 25 years to see if mammograms were superior to more traditional breast cancer screenings in preventing breast cancer deaths.\n",
        "\n",
        "1. Cross tabulate `treatment` and `breast_cancer_death`. What is the difference in 25-year survival rates between the control and mammogram groups?\n",
        "2. Bootstrap the densities and distributions of survival rates for the two groups.\n",
        "3. Construct a 99% confidence interval for the difference in outcomes bewteen the two groups. Does it include zero?\n",
        "4. We're not doctors, these were just some intriguing data, and the information about the patients is extremely sparse. Why might these data over/understate the conclusions you've reached? What other data would you like to have to better understand or criticize your results?"
      ]
    },
    {
      "cell_type": "code",
      "source": [
        "import pandas as pd\n",
        "import numpy as np\n",
        "import seaborn as sns\n",
        "import matplotlib.pyplot as plt\n",
        "\n",
        "df = pd.read_csv(\"/content/mammogram.csv\")\n",
        "df.head()"
      ],
      "metadata": {
        "colab": {
          "base_uri": "https://localhost:8080/",
          "height": 206
        },
        "id": "wP_fAeov0KaB",
        "outputId": "3e302661-e4a4-4ee6-bb61-cc54d5018625"
      },
      "id": "wP_fAeov0KaB",
      "execution_count": 12,
      "outputs": [
        {
          "output_type": "execute_result",
          "data": {
            "text/plain": [
              "   treatment breast_cancer_death\n",
              "0  mammogram                 yes\n",
              "1  mammogram                 yes\n",
              "2  mammogram                 yes\n",
              "3  mammogram                 yes\n",
              "4  mammogram                 yes"
            ],
            "text/html": [
              "\n",
              "  <div id=\"df-226e78f8-614b-43f5-9bae-fc782fec5b13\" class=\"colab-df-container\">\n",
              "    <div>\n",
              "<style scoped>\n",
              "    .dataframe tbody tr th:only-of-type {\n",
              "        vertical-align: middle;\n",
              "    }\n",
              "\n",
              "    .dataframe tbody tr th {\n",
              "        vertical-align: top;\n",
              "    }\n",
              "\n",
              "    .dataframe thead th {\n",
              "        text-align: right;\n",
              "    }\n",
              "</style>\n",
              "<table border=\"1\" class=\"dataframe\">\n",
              "  <thead>\n",
              "    <tr style=\"text-align: right;\">\n",
              "      <th></th>\n",
              "      <th>treatment</th>\n",
              "      <th>breast_cancer_death</th>\n",
              "    </tr>\n",
              "  </thead>\n",
              "  <tbody>\n",
              "    <tr>\n",
              "      <th>0</th>\n",
              "      <td>mammogram</td>\n",
              "      <td>yes</td>\n",
              "    </tr>\n",
              "    <tr>\n",
              "      <th>1</th>\n",
              "      <td>mammogram</td>\n",
              "      <td>yes</td>\n",
              "    </tr>\n",
              "    <tr>\n",
              "      <th>2</th>\n",
              "      <td>mammogram</td>\n",
              "      <td>yes</td>\n",
              "    </tr>\n",
              "    <tr>\n",
              "      <th>3</th>\n",
              "      <td>mammogram</td>\n",
              "      <td>yes</td>\n",
              "    </tr>\n",
              "    <tr>\n",
              "      <th>4</th>\n",
              "      <td>mammogram</td>\n",
              "      <td>yes</td>\n",
              "    </tr>\n",
              "  </tbody>\n",
              "</table>\n",
              "</div>\n",
              "    <div class=\"colab-df-buttons\">\n",
              "\n",
              "  <div class=\"colab-df-container\">\n",
              "    <button class=\"colab-df-convert\" onclick=\"convertToInteractive('df-226e78f8-614b-43f5-9bae-fc782fec5b13')\"\n",
              "            title=\"Convert this dataframe to an interactive table.\"\n",
              "            style=\"display:none;\">\n",
              "\n",
              "  <svg xmlns=\"http://www.w3.org/2000/svg\" height=\"24px\" viewBox=\"0 -960 960 960\">\n",
              "    <path d=\"M120-120v-720h720v720H120Zm60-500h600v-160H180v160Zm220 220h160v-160H400v160Zm0 220h160v-160H400v160ZM180-400h160v-160H180v160Zm440 0h160v-160H620v160ZM180-180h160v-160H180v160Zm440 0h160v-160H620v160Z\"/>\n",
              "  </svg>\n",
              "    </button>\n",
              "\n",
              "  <style>\n",
              "    .colab-df-container {\n",
              "      display:flex;\n",
              "      gap: 12px;\n",
              "    }\n",
              "\n",
              "    .colab-df-convert {\n",
              "      background-color: #E8F0FE;\n",
              "      border: none;\n",
              "      border-radius: 50%;\n",
              "      cursor: pointer;\n",
              "      display: none;\n",
              "      fill: #1967D2;\n",
              "      height: 32px;\n",
              "      padding: 0 0 0 0;\n",
              "      width: 32px;\n",
              "    }\n",
              "\n",
              "    .colab-df-convert:hover {\n",
              "      background-color: #E2EBFA;\n",
              "      box-shadow: 0px 1px 2px rgba(60, 64, 67, 0.3), 0px 1px 3px 1px rgba(60, 64, 67, 0.15);\n",
              "      fill: #174EA6;\n",
              "    }\n",
              "\n",
              "    .colab-df-buttons div {\n",
              "      margin-bottom: 4px;\n",
              "    }\n",
              "\n",
              "    [theme=dark] .colab-df-convert {\n",
              "      background-color: #3B4455;\n",
              "      fill: #D2E3FC;\n",
              "    }\n",
              "\n",
              "    [theme=dark] .colab-df-convert:hover {\n",
              "      background-color: #434B5C;\n",
              "      box-shadow: 0px 1px 3px 1px rgba(0, 0, 0, 0.15);\n",
              "      filter: drop-shadow(0px 1px 2px rgba(0, 0, 0, 0.3));\n",
              "      fill: #FFFFFF;\n",
              "    }\n",
              "  </style>\n",
              "\n",
              "    <script>\n",
              "      const buttonEl =\n",
              "        document.querySelector('#df-226e78f8-614b-43f5-9bae-fc782fec5b13 button.colab-df-convert');\n",
              "      buttonEl.style.display =\n",
              "        google.colab.kernel.accessAllowed ? 'block' : 'none';\n",
              "\n",
              "      async function convertToInteractive(key) {\n",
              "        const element = document.querySelector('#df-226e78f8-614b-43f5-9bae-fc782fec5b13');\n",
              "        const dataTable =\n",
              "          await google.colab.kernel.invokeFunction('convertToInteractive',\n",
              "                                                    [key], {});\n",
              "        if (!dataTable) return;\n",
              "\n",
              "        const docLinkHtml = 'Like what you see? Visit the ' +\n",
              "          '<a target=\"_blank\" href=https://colab.research.google.com/notebooks/data_table.ipynb>data table notebook</a>'\n",
              "          + ' to learn more about interactive tables.';\n",
              "        element.innerHTML = '';\n",
              "        dataTable['output_type'] = 'display_data';\n",
              "        await google.colab.output.renderOutput(dataTable, element);\n",
              "        const docLink = document.createElement('div');\n",
              "        docLink.innerHTML = docLinkHtml;\n",
              "        element.appendChild(docLink);\n",
              "      }\n",
              "    </script>\n",
              "  </div>\n",
              "\n",
              "\n",
              "<div id=\"df-efa797d4-a9d7-4eac-824d-b0c8e49ad4e8\">\n",
              "  <button class=\"colab-df-quickchart\" onclick=\"quickchart('df-efa797d4-a9d7-4eac-824d-b0c8e49ad4e8')\"\n",
              "            title=\"Suggest charts\"\n",
              "            style=\"display:none;\">\n",
              "\n",
              "<svg xmlns=\"http://www.w3.org/2000/svg\" height=\"24px\"viewBox=\"0 0 24 24\"\n",
              "     width=\"24px\">\n",
              "    <g>\n",
              "        <path d=\"M19 3H5c-1.1 0-2 .9-2 2v14c0 1.1.9 2 2 2h14c1.1 0 2-.9 2-2V5c0-1.1-.9-2-2-2zM9 17H7v-7h2v7zm4 0h-2V7h2v10zm4 0h-2v-4h2v4z\"/>\n",
              "    </g>\n",
              "</svg>\n",
              "  </button>\n",
              "\n",
              "<style>\n",
              "  .colab-df-quickchart {\n",
              "      --bg-color: #E8F0FE;\n",
              "      --fill-color: #1967D2;\n",
              "      --hover-bg-color: #E2EBFA;\n",
              "      --hover-fill-color: #174EA6;\n",
              "      --disabled-fill-color: #AAA;\n",
              "      --disabled-bg-color: #DDD;\n",
              "  }\n",
              "\n",
              "  [theme=dark] .colab-df-quickchart {\n",
              "      --bg-color: #3B4455;\n",
              "      --fill-color: #D2E3FC;\n",
              "      --hover-bg-color: #434B5C;\n",
              "      --hover-fill-color: #FFFFFF;\n",
              "      --disabled-bg-color: #3B4455;\n",
              "      --disabled-fill-color: #666;\n",
              "  }\n",
              "\n",
              "  .colab-df-quickchart {\n",
              "    background-color: var(--bg-color);\n",
              "    border: none;\n",
              "    border-radius: 50%;\n",
              "    cursor: pointer;\n",
              "    display: none;\n",
              "    fill: var(--fill-color);\n",
              "    height: 32px;\n",
              "    padding: 0;\n",
              "    width: 32px;\n",
              "  }\n",
              "\n",
              "  .colab-df-quickchart:hover {\n",
              "    background-color: var(--hover-bg-color);\n",
              "    box-shadow: 0 1px 2px rgba(60, 64, 67, 0.3), 0 1px 3px 1px rgba(60, 64, 67, 0.15);\n",
              "    fill: var(--button-hover-fill-color);\n",
              "  }\n",
              "\n",
              "  .colab-df-quickchart-complete:disabled,\n",
              "  .colab-df-quickchart-complete:disabled:hover {\n",
              "    background-color: var(--disabled-bg-color);\n",
              "    fill: var(--disabled-fill-color);\n",
              "    box-shadow: none;\n",
              "  }\n",
              "\n",
              "  .colab-df-spinner {\n",
              "    border: 2px solid var(--fill-color);\n",
              "    border-color: transparent;\n",
              "    border-bottom-color: var(--fill-color);\n",
              "    animation:\n",
              "      spin 1s steps(1) infinite;\n",
              "  }\n",
              "\n",
              "  @keyframes spin {\n",
              "    0% {\n",
              "      border-color: transparent;\n",
              "      border-bottom-color: var(--fill-color);\n",
              "      border-left-color: var(--fill-color);\n",
              "    }\n",
              "    20% {\n",
              "      border-color: transparent;\n",
              "      border-left-color: var(--fill-color);\n",
              "      border-top-color: var(--fill-color);\n",
              "    }\n",
              "    30% {\n",
              "      border-color: transparent;\n",
              "      border-left-color: var(--fill-color);\n",
              "      border-top-color: var(--fill-color);\n",
              "      border-right-color: var(--fill-color);\n",
              "    }\n",
              "    40% {\n",
              "      border-color: transparent;\n",
              "      border-right-color: var(--fill-color);\n",
              "      border-top-color: var(--fill-color);\n",
              "    }\n",
              "    60% {\n",
              "      border-color: transparent;\n",
              "      border-right-color: var(--fill-color);\n",
              "    }\n",
              "    80% {\n",
              "      border-color: transparent;\n",
              "      border-right-color: var(--fill-color);\n",
              "      border-bottom-color: var(--fill-color);\n",
              "    }\n",
              "    90% {\n",
              "      border-color: transparent;\n",
              "      border-bottom-color: var(--fill-color);\n",
              "    }\n",
              "  }\n",
              "</style>\n",
              "\n",
              "  <script>\n",
              "    async function quickchart(key) {\n",
              "      const quickchartButtonEl =\n",
              "        document.querySelector('#' + key + ' button');\n",
              "      quickchartButtonEl.disabled = true;  // To prevent multiple clicks.\n",
              "      quickchartButtonEl.classList.add('colab-df-spinner');\n",
              "      try {\n",
              "        const charts = await google.colab.kernel.invokeFunction(\n",
              "            'suggestCharts', [key], {});\n",
              "      } catch (error) {\n",
              "        console.error('Error during call to suggestCharts:', error);\n",
              "      }\n",
              "      quickchartButtonEl.classList.remove('colab-df-spinner');\n",
              "      quickchartButtonEl.classList.add('colab-df-quickchart-complete');\n",
              "    }\n",
              "    (() => {\n",
              "      let quickchartButtonEl =\n",
              "        document.querySelector('#df-efa797d4-a9d7-4eac-824d-b0c8e49ad4e8 button');\n",
              "      quickchartButtonEl.style.display =\n",
              "        google.colab.kernel.accessAllowed ? 'block' : 'none';\n",
              "    })();\n",
              "  </script>\n",
              "</div>\n",
              "\n",
              "    </div>\n",
              "  </div>\n"
            ],
            "application/vnd.google.colaboratory.intrinsic+json": {
              "type": "dataframe",
              "variable_name": "df",
              "summary": "{\n  \"name\": \"df\",\n  \"rows\": 89835,\n  \"fields\": [\n    {\n      \"column\": \"treatment\",\n      \"properties\": {\n        \"dtype\": \"category\",\n        \"num_unique_values\": 2,\n        \"samples\": [\n          \"control\",\n          \"mammogram\"\n        ],\n        \"semantic_type\": \"\",\n        \"description\": \"\"\n      }\n    },\n    {\n      \"column\": \"breast_cancer_death\",\n      \"properties\": {\n        \"dtype\": \"category\",\n        \"num_unique_values\": 2,\n        \"samples\": [\n          \"no\",\n          \"yes\"\n        ],\n        \"semantic_type\": \"\",\n        \"description\": \"\"\n      }\n    }\n  ]\n}"
            }
          },
          "metadata": {},
          "execution_count": 12
        }
      ]
    },
    {
      "cell_type": "code",
      "source": [
        "# 1. Cross tabulate treatment and breast_cancer_death.\n",
        "# What is the difference in 25-year survival rates between the control and mammogram groups?\n",
        "\n",
        "print( pd.crosstab( df['treatment'], df['breast_cancer_death']) , '\\n')\n",
        "\n",
        "treatment_effect = (44425/(44425+500)) - (44405/(44405+505))\n",
        "\n",
        "print(\"Difference in Control/Mammogram group Survival Rates:\", (44425/(44425+500)) - (44405/(44405+505)))"
      ],
      "metadata": {
        "colab": {
          "base_uri": "https://localhost:8080/"
        },
        "id": "ehbvOq480egg",
        "outputId": "7b099cbd-a9fe-4e4e-cae9-29965a994a7f"
      },
      "id": "ehbvOq480egg",
      "execution_count": 20,
      "outputs": [
        {
          "output_type": "stream",
          "name": "stdout",
          "text": [
            "breast_cancer_death     no  yes\n",
            "treatment                      \n",
            "control              44405  505\n",
            "mammogram            44425  500 \n",
            "\n",
            "Difference in Control/Mammogram group Survival Rates: 0.00011505110015985753\n"
          ]
        }
      ]
    },
    {
      "cell_type": "code",
      "source": [
        "# 2.  Bootstrap the densities and distributions of survival rates for the two groups.\n",
        "\n",
        "df_treat = df.loc[ df['treatment'] == 'mammogram', :]\n",
        "df_control = df.loc[ df['treatment'] == 'control', :]\n",
        "\n",
        "df['survive'] = 0\n",
        "df.loc[ df['breast_cancer_death'] == 'no', 'survive'] = 1\n",
        "\n",
        "effects = []\n",
        "S = 1000\n",
        "for s in range(S):\n",
        "  df_treat_sample = df_treat.sample(df_treat.shape[0], axis=0, replace=True)\n",
        "  df_control_sample = df_control.sample(df_control.shape[0], axis=0, replace=True)\n",
        "  treatment_effect_sample = np.mean(df_treat_sample['survive']) - np.mean(df_control_sample['survive'])\n",
        "  effects.append(treatment_effect_sample)\n",
        "\n",
        "sns.kdeplot(effects)\n",
        "plt.show()\n",
        "\n",
        "sns.ecdfplot(effects)\n",
        "plt.show()"
      ],
      "metadata": {
        "colab": {
          "base_uri": "https://localhost:8080/",
          "height": 848
        },
        "id": "_kIbp4vV0j8o",
        "outputId": "a24da5da-27a7-4075-8db7-d847669b6520"
      },
      "id": "_kIbp4vV0j8o",
      "execution_count": 16,
      "outputs": [
        {
          "output_type": "display_data",
          "data": {
            "text/plain": [
              "<Figure size 640x480 with 1 Axes>"
            ],
            "image/png": "[encoded data removed]"
          },
          "metadata": {}
        },
        {
          "output_type": "display_data",
          "data": {
            "text/plain": [
              "<Figure size 640x480 with 1 Axes>"
            ],
            "image/png": "[encoded data removed]"
          },
          "metadata": {}
        }
      ]
    },
    {
      "cell_type": "code",
      "source": [
        "# 3. Construct a 99% confidence interval for the difference in outcomes bewteen the two groups. Does it include zero?\n",
        "\n",
        "CI = np.quantile(effects,[.005,.995])\n",
        "\n",
        "print(\"99% Confidence Interval\", CI)\n",
        "\n",
        "ax = sns.kdeplot(effects)\n",
        "ax.axvline(x = treatment_effect,linestyle='dashed',color='green') # Point estimate\n",
        "ax.axvline(x = CI[0],linestyle='dashed',color='red') # Lower bound\n",
        "ax.axvline(x = CI[1],linestyle='dashed',color='red') # Upper bound\n",
        "plt.show()\n",
        "\n",
        "# Zero is within the confidence interval! This means that mammograms do not provide a statistically significant\n",
        "# difference in 25-year survival rates compared to the control group."
      ],
      "metadata": {
        "colab": {
          "base_uri": "https://localhost:8080/",
          "height": 448
        },
        "id": "OXNuz7B30mTu",
        "outputId": "79078883-2148-4a3a-920a-42451bdc191f"
      },
      "id": "OXNuz7B30mTu",
      "execution_count": 21,
      "outputs": [
        {
          "output_type": "stream",
          "name": "stdout",
          "text": [
            "99% Confidence Interval [-0.00155499  0.00207411]\n"
          ]
        },
        {
          "output_type": "display_data",
          "data": {
            "text/plain": [
              "<Figure size 640x480 with 1 Axes>"
            ],
            "image/png": "[encoded data removed]"
          },
          "metadata": {}
        }
      ]
    },
    {
      "cell_type": "code",
      "source": [
        "# 4. We're not doctors, these were just some intriguing data, and the information about the patients is extremely sparse.\n",
        "# Why might these data over/understate the conclusions you've reached?\n",
        "# What other data would you like to have to better understand or criticize your results?"
      ],
      "metadata": {
        "id": "318_f0v90pwj"
      },
      "id": "318_f0v90pwj",
      "execution_count": null,
      "outputs": []
    },
    {
      "cell_type": "markdown",
      "source": [
        "To better understand these results, it could be helpful to have more information about the patients who received the treatments and how the treatment type was decided. The data could be biased if the treatment type was not randomly assigned (although randomly assigning this type of treatment might not be ethical). Nonetheless, if patients chose to receive a mammogram, then they may possess certain characteristics that may have made it seem like mammograms are not effective. For example, wealthier people tend to be healthier overall due to their increased access to healthcare. If these wealthier, healthier people tended to choose to get mammograms, it could make mammograms seem ineffective compared to the control group who may have more serious problems. Ultimately, due to the lack of sufficient data on the patients and the methods of the study, we cannot make any causal claims about the effectiveness of mammograms in preventing breast cancer deaths."
      ],
      "metadata": {
        "id": "EtB1pzbufF6D"
      },
      "id": "EtB1pzbufF6D"
    },
    {
      "cell_type": "markdown",
      "id": "6a5f07ca-300a-4e1c-9c3c-9ed39a97badc",
      "metadata": {
        "id": "6a5f07ca-300a-4e1c-9c3c-9ed39a97badc"
      },
      "source": [
        "**Q3.** This question refers to the `diabetes_hw.csv` data. It contains two variables, `outcome` and `treatment`. Each is looking at whether an individual's diabetes was successfully treated (`outcome==success`) with `lifestyle` interventions like exercises and diets, a drug denoted by `met` (metformin), or a drug denoted by `rosi` (rosiglitazone), or not (`outcome==failure`). Treatment success means that the individual no longer needs to be treated with insulin, while failure means the patient still required insulin injections after treatment.\n",
        "\n",
        "1. Cross tabulate `treatment` and `outcome`.\n",
        "2. Compute the the proportion of successes for each treatment. Which treatment appears to be the most effective?\n",
        "3. Bootstrap the density and distribution of the proportion of successes for each interventions. Create empirical CDF and kernel density plots that are grouped  by treatment type. Which treatment appears to be the most effective?\n",
        "4. For each comparison (lifestyle versus met, met versus rosi, rosi versus lifestyle), bootstrap the distribution of the difference in outcomes. At the 90% level of confidence, which pairwise treatment comparisons are significantally different?\n",
        "5. Which treatment appears to be the most effective overall?"
      ]
    },
    {
      "cell_type": "code",
      "source": [
        "# 1. Cross tabulate treatment and outcome.\n",
        "\n",
        "df = pd.read_csv(\"/content/diabetes_hw.csv\")\n",
        "df.head()\n",
        "\n",
        "print(pd.crosstab( df['treatment'], df['outcome']) , '\\n')"
      ],
      "metadata": {
        "id": "oWMSMe-ekG78",
        "outputId": "a105fb61-fd2b-4cb3-d79c-0d8db6848044",
        "colab": {
          "base_uri": "https://localhost:8080/"
        }
      },
      "id": "oWMSMe-ekG78",
      "execution_count": 23,
      "outputs": [
        {
          "output_type": "stream",
          "name": "stdout",
          "text": [
            "outcome    failure  success\n",
            "treatment                  \n",
            "lifestyle      109      125\n",
            "met            120      112\n",
            "rosi            90      143 \n",
            "\n"
          ]
        }
      ]
    },
    {
      "cell_type": "code",
      "source": [
        "# 2. Compute the the proportion of successes for each treatment. Which treatment appears to be the most effective?\n",
        "\n",
        "lifestyle_success = (125/(109+125))\n",
        "met_success = (112/(120+112))\n",
        "rosi_success = (143/(90+143))\n",
        "\n",
        "print(\"Lifestyle success:\", lifestyle_success)\n",
        "print(\"Met success:\", met_success)\n",
        "print(\"Rosi success:\", rosi_success) # seems to be the most effective"
      ],
      "metadata": {
        "id": "9dmiACcskFPF",
        "outputId": "3522d9a7-0d07-4cfd-89f7-292082bce2c5",
        "colab": {
          "base_uri": "https://localhost:8080/"
        }
      },
      "id": "9dmiACcskFPF",
      "execution_count": 25,
      "outputs": [
        {
          "output_type": "stream",
          "name": "stdout",
          "text": [
            "Lifestyle success: 0.5341880341880342\n",
            "Met success: 0.4827586206896552\n",
            "Rosi success: 0.6137339055793991\n"
          ]
        }
      ]
    },
    {
      "cell_type": "code",
      "source": [
        "# 3. Bootstrap the density and distribution of the proportion of successes for each interventions.\n",
        "# Create empirical CDF and kernel density plots that are grouped by treatment type.\n",
        "# Which treatment appears to be the most effective?\n",
        "\n",
        "df_life = df.loc[ df['treatment'] == 'lifestyle', :]\n",
        "df_met = df.loc[ df['treatment'] == 'met', :]\n",
        "df_rosi = df.loc[ df['treatment'] == 'rosi', :]\n",
        "\n",
        "S = 100\n",
        "df['survive'] = 0\n",
        "df.loc[ df['breast_cancer_death'] == 'no', 'survive'] = 1\n",
        "\n",
        "effects = []\n",
        "\n",
        "\n",
        "\n",
        "for s in range(S):\n",
        "  df_life_sample = df_life.sample(df_life.shape[0], axis=0, replace=True)\n",
        "  df_met_sample = df_met.sample(df_met.shape[0], axis=0, replace=True)\n",
        "  df_rosi_sample = df_rosi.sample(df_rosi.shape[0], axis=0, replace=True)\n",
        "\n",
        "  treatment_effect_sample = np.mean(df_treat_sample['survive']) - np.mean(df_control_sample['survive'])\n",
        "  effects.append(treatment_effect_sample)\n",
        "\n",
        "sns.kdeplot(effects)\n",
        "plt.show()\n",
        "\n",
        "sns.ecdfplot(effects)\n",
        "plt.show()"
      ],
      "metadata": {
        "id": "c0ikmPApkJkJ"
      },
      "id": "c0ikmPApkJkJ",
      "execution_count": null,
      "outputs": []
    },
    {
      "cell_type": "code",
      "source": [
        "# 4. For each comparison (lifestyle versus met, met versus rosi, rosi versus lifestyle), bootstrap the distribution of\n",
        "# the difference in outcomes. At the 90% level of confidence, which pairwise treatment comparisons are significantally\n",
        "# different?\n"
      ],
      "metadata": {
        "id": "AusjQuHokMHc"
      },
      "id": "AusjQuHokMHc",
      "execution_count": null,
      "outputs": []
    },
    {
      "cell_type": "code",
      "source": [
        "# 5. Which treatment appears to be the most effective overall?\n"
      ],
      "metadata": {
        "id": "rihCuoZKkSIE"
      },
      "id": "rihCuoZKkSIE",
      "execution_count": null,
      "outputs": []
    },
    {
      "cell_type": "markdown",
      "id": "ec729f2a-0178-4c11-a55d-d236c1252f29",
      "metadata": {
        "id": "ec729f2a-0178-4c11-a55d-d236c1252f29"
      },
      "source": [
        "**Q4.** The goal of the question is to incorporate features/covariates/predictors/explanatory variables into the kind of treatment effect comparisons done in the previous questions. This question refers to the `heart_hw.csv` data. It contains three variables:\n",
        "\n",
        "  - `y`: Whether the individual survived, coded 0 for death and 1 for survival\n",
        "  - `age`: Patient's age\n",
        "  - `transplant`: `control` for not receiving a transplant and `treatment` for receiving a transplant\n",
        "\n",
        "1. Compute (a) the proportion of people who survive in the control group who do not receive a transplant, and (b) the difference between the proportion of people who survive in the treatment group and the proportion of people who survive in the control group (the average treatment effect).\n",
        "2. Regress `y` on `transplant` using a linear model. How does the constant/intercept of the regression and the coefficient on transplant compare to your answers from part 1? Explain carefully.\n",
        "3. We'd like to include `age` in the regression, since it's reasonable to expect that older patients are less likely to survive an extensive surgery like a heart transplant. Regress `y` on transplant, age, and transplant $\\times$ age. You can do this using a linear regression. How do the intercept and the coefficient on `transplanttreatment` change?\n",
        "4. Build a more flexible model that allows for non-linear age effects and interactions between age and treatment. Estimate the model, and plot the predicted survival probability by age, hued for people who receive a heart transplant and those who don't. Describe what you see.\n",
        "5. Imagine someone suggests using these kinds of models to select who receives organ transplants; perhaps the CDC or NIH starts using a scoring algorithm to decide who is contacted about a potential organ transplant. What are your concerns about how it is built and how it is deployed?"
      ]
    }
  ],
  "metadata": {
    "kernelspec": {
      "display_name": "Python 3 (ipykernel)",
      "language": "python",
      "name": "python3"
    },
    "language_info": {
      "codemirror_mode": {
        "name": "ipython",
        "version": 3
      },
      "file_extension": ".py",
      "mimetype": "text/x-python",
      "name": "python",
      "nbconvert_exporter": "python",
      "pygments_lexer": "ipython3",
      "version": "3.10.4"
    },
    "colab": {
      "provenance": []
    }
  },
  "nbformat": 4,
  "nbformat_minor": 5
}